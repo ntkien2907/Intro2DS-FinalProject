{
 "cells": [
  {
   "cell_type": "code",
   "execution_count": 5,
   "metadata": {
    "executionInfo": {
     "elapsed": 280,
     "status": "ok",
     "timestamp": 1631197792986,
     "user": {
      "displayName": "Tai Nguyen",
      "photoUrl": "https://lh3.googleusercontent.com/a-/AOh14GipAgQKNFxsG6l9B4IoyiXZtJoMV_vpwKfFEvPO=s64",
      "userId": "13673984212183603337"
     },
     "user_tz": -420
    },
    "id": "EF9ILcNiNAhx"
   },
   "outputs": [],
   "source": [
    "import re\n",
    "import time\n",
    "import requests\n",
    "import requests_cache\n",
    "from bs4 import BeautifulSoup\n",
    "\n",
    "requests_cache.install_cache()"
   ]
  },
  {
   "cell_type": "code",
   "execution_count": 6,
   "metadata": {
    "id": "HjUfUG51NKjJ"
   },
   "outputs": [],
   "source": [
    "url = 'http://vetaugiare24h.com/ve-xe.html'\n",
    "tree = BeautifulSoup(requests.get(url).text)"
   ]
  },
  {
   "cell_type": "code",
   "execution_count": 7,
   "metadata": {
    "colab": {
     "base_uri": "https://localhost:8080/"
    },
    "executionInfo": {
     "elapsed": 3,
     "status": "ok",
     "timestamp": 1631195999713,
     "user": {
      "displayName": "Trung Kiên Nguyễn",
      "photoUrl": "https://lh3.googleusercontent.com/a-/AOh14Gjvxk64OsMJDUQBjr8geO1i6cEJenCRN2qQ7JRWTw=s64",
      "userId": "11085371309446490037"
     },
     "user_tz": -420
    },
    "id": "bFOrkZ5vNMpi",
    "outputId": "b8a1b532-b206-4086-c8ad-96762fd6ec74"
   },
   "outputs": [
    {
     "data": {
      "text/plain": [
       "64"
      ]
     },
     "execution_count": 7,
     "metadata": {},
     "output_type": "execute_result"
    }
   ],
   "source": [
    "to_places = tree.find_all('li', {'id': 'chinhlitrong'})\n",
    "len(to_places)"
   ]
  },
  {
   "cell_type": "code",
   "execution_count": 8,
   "metadata": {
    "id": "x90Du6blNRr8"
   },
   "outputs": [],
   "source": [
    "path = 'tickets.tsv'\n",
    "\n",
    "with open(path, 'w', encoding='utf-8') as f:\n",
    "  f.write('Điểm đi\\tĐiểm đến\\tSố chỗ\\tGiá (VNĐ)')\n",
    "\n",
    "  for to_place in to_places:\n",
    "    # Parse trang web của từng điểm đến:\n",
    "    to_place_url = to_place.a['href']\n",
    "    to_place_r = requests.get(to_place_url)\n",
    "    if not to_place_r.from_cache:\n",
    "      time.sleep(0.5)\n",
    "    to_place_tree = BeautifulSoup(to_place_r.text)\n",
    "\n",
    "    # Lấy danh sách điểm đi ứng với điểm đến to_place:\n",
    "    from_places_group = to_place_tree.find('div', {'class': 'noidungtin'})\n",
    "    from_places = from_places_group.find_all('li', {'class': 'khuyenmaili'})\n",
    "    #print(len(from_places))\n",
    "\n",
    "    for from_place in from_places:\n",
    "      # Parse trang web của từng điểm đi:\n",
    "      from_place_url = from_place.a['href']\n",
    "      from_place_r = requests.get(from_place_url)\n",
    "      if not from_place_r.from_cache:\n",
    "        time.sleep(0.5)\n",
    "      from_place_tree = BeautifulSoup(from_place_r.text)\n",
    "\n",
    "      # Bảng giá vé:\n",
    "      from_place_table = from_place_tree.table\n",
    "      rows = from_place_table.find_all('tr')[2:]\n",
    "\n",
    "      # Điểm đi - Điểm đến\n",
    "      locations = from_place.text.strip().split(' - ')\n",
    "\n",
    "      for row in rows:\n",
    "        if row.a == None: continue\n",
    "\n",
    "        # Điểm đi:\n",
    "        col2 = row.td.next_sibling.next_sibling\n",
    "        departure = locations[0]\n",
    "        #print(departure)\n",
    "\n",
    "        col3 = col2.next_sibling.next_sibling\n",
    "        \n",
    "        # Điểm đến:\n",
    "        col4 = col3.next_sibling.next_sibling\n",
    "        destination = locations[1]\n",
    "        #print(destination)\n",
    "\n",
    "        # Số chỗ:\n",
    "        col5 = col4.next_sibling.next_sibling\n",
    "        seats = col5.string.strip()\n",
    "        try:\n",
    "          seats = float(re.findall('\\d+', seats)[0])\n",
    "        except:\n",
    "          continue\n",
    "        #print(seats)\n",
    "\n",
    "        # Giá:\n",
    "        tokens = row.font.text.split()\n",
    "        try:\n",
    "          price = float(tokens[0].replace('.', ''))\n",
    "        except:\n",
    "          try:\n",
    "            price = float(tokens[1].replace('.', ''))\n",
    "          except:\n",
    "            continue\n",
    "        #print(price)\n",
    "\n",
    "        f.write(f'\\n{departure}\\t{destination}\\t{seats}\\t{price}')"
   ]
  }
 ],
 "metadata": {
  "colab": {
   "collapsed_sections": [],
   "name": "CollectData.ipynb",
   "provenance": []
  },
  "kernelspec": {
   "display_name": "Python 3 (ipykernel)",
   "language": "python",
   "name": "python3"
  },
  "language_info": {
   "codemirror_mode": {
    "name": "ipython",
    "version": 3
   },
   "file_extension": ".py",
   "mimetype": "text/x-python",
   "name": "python",
   "nbconvert_exporter": "python",
   "pygments_lexer": "ipython3",
   "version": "3.8.8"
  }
 },
 "nbformat": 4,
 "nbformat_minor": 1
}

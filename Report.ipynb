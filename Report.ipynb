{
 "cells": [
  {
   "cell_type": "markdown",
   "metadata": {
    "id": "jjysCVpWn0Hm"
   },
   "source": [
    "## <center>Nhập môn Khoa học dữ liệu\n",
    "# <center>Đồ án cuối kỳ\n",
    "\n",
    "Thành viên thực hiện\n",
    "- 18127123 - Nguyễn Trung Kiên\n",
    "- 18127203 - Nguyễn Lê Quốc Tài"
   ]
  },
  {
   "cell_type": "markdown",
   "metadata": {
    "id": "T0HIIcT5okF_"
   },
   "source": [
    "\n",
    "## 1. Thu thập dữ liệu"
   ]
  },
  {
   "cell_type": "markdown",
   "metadata": {
    "id": "LnddoPPOsjrw"
   },
   "source": [
    "### 1.1. Nguồn thu thập dữ liệu"
   ]
  },
  {
   "cell_type": "markdown",
   "metadata": {
    "id": "ZfjtSUfyqzyl"
   },
   "source": [
    "- Url: http://vetaugiare24h.com/ve-xe.html\n",
    "- Mô tả trang web:\n",
    " - Term of service: Không có\n",
    " - Nội dung: Tra cứu thông tin vé xe khách đi toàn quốc\n",
    "- Dữ liệu thu thập là thông tin của từng chuyến đi, bao gồm\n",
    " - Điểm đi\n",
    " - Điểm đến\n",
    " - Số chỗ\n",
    " - Giá (VNĐ)"
   ]
  },
  {
   "cell_type": "markdown",
   "metadata": {
    "id": "ArjsE1_dQaOE"
   },
   "source": [
    "### 1.2. Thu thập dữ liệu từ trang web\n",
    "\n",
    "- Ở đây, để tiện cho việc tái sử dụng lại dữ liệu và tránh mất thời gian thu thập lại (từ internet cũng như cache), nhóm đã tách riêng thành một file **CollectData.ipynb** chỉ dùng để crawl. Dữ liệu sau đó được lưu dưới dạng file tsv, các bước xử lí sau này, ta sẽ gọi trực tiếp file tsv này lên.\n",
    "- Trong trường hợp muốn thu thập lại dữ liệu, ta sẽ phải run lại file .**CollectData.ipynb** ở trên, tuy nhiên thời gian chạy sẽ khá lâu,\n",
    " - Internet ≈ 90 phút\n",
    " - Cache ≈ 7 phút\n",
    "- File cache có được từ việc parse trang web. [Link](https://drive.google.com/file/d/1wNJnwGl2Q12KXGVIUg-7SKlh5vfcB9yX/view?usp=sharing)\n",
    "- Trong trường hợp không parse trang web (tránh mất thời gian), dùng file tsv sau, có được từ việc thu thập. [Link](https://drive.google.com/file/d/11lb9wj1x3ENuMsUTGFlGk2ROI2wmV743/view?usp=sharing)"
   ]
  },
  {
   "cell_type": "code",
   "execution_count": 1,
   "metadata": {
    "id": "ZK1F5gW3TnUR"
   },
   "outputs": [],
   "source": [
    "import pandas as pd\n",
    "from sklearn.model_selection import train_test_split\n",
    "from sklearn.preprocessing import OneHotEncoder, StandardScaler\n",
    "from sklearn.impute import SimpleImputer\n",
    "from sklearn.pipeline import Pipeline\n",
    "from sklearn.compose import ColumnTransformer\n",
    "from sklearn.neural_network import MLPRegressor\n",
    "from sklearn import set_config\n",
    "set_config(display='diagram')"
   ]
  },
  {
   "cell_type": "markdown",
   "metadata": {
    "id": "CvPTGGBxH8jK"
   },
   "source": [
    "## 2. Khám phá dữ liệu"
   ]
  },
  {
   "cell_type": "markdown",
   "metadata": {
    "id": "OiSEnB3ijFCF"
   },
   "source": [
    "### Nhìn qua dữ liệu đã thu thập được."
   ]
  },
  {
   "cell_type": "code",
   "execution_count": 2,
   "metadata": {
    "colab": {
     "base_uri": "https://localhost:8080/",
     "height": 206
    },
    "executionInfo": {
     "elapsed": 49,
     "status": "ok",
     "timestamp": 1630852145221,
     "user": {
      "displayName": "Trung Kiên Nguyễn",
      "photoUrl": "https://lh3.googleusercontent.com/a-/AOh14Gjvxk64OsMJDUQBjr8geO1i6cEJenCRN2qQ7JRWTw=s64",
      "userId": "11085371309446490037"
     },
     "user_tz": -420
    },
    "id": "9AFrMeZpIG55",
    "outputId": "cc15adde-3be4-417c-a6b4-455e5aa598fc"
   },
   "outputs": [
    {
     "data": {
      "text/html": [
       "<div>\n",
       "<style scoped>\n",
       "    .dataframe tbody tr th:only-of-type {\n",
       "        vertical-align: middle;\n",
       "    }\n",
       "\n",
       "    .dataframe tbody tr th {\n",
       "        vertical-align: top;\n",
       "    }\n",
       "\n",
       "    .dataframe thead th {\n",
       "        text-align: right;\n",
       "    }\n",
       "</style>\n",
       "<table border=\"1\" class=\"dataframe\">\n",
       "  <thead>\n",
       "    <tr style=\"text-align: right;\">\n",
       "      <th></th>\n",
       "      <th>Điểm đi</th>\n",
       "      <th>Điểm đến</th>\n",
       "      <th>Số chỗ</th>\n",
       "      <th>Giá (VNĐ)</th>\n",
       "    </tr>\n",
       "  </thead>\n",
       "  <tbody>\n",
       "    <tr>\n",
       "      <th>0</th>\n",
       "      <td>An Giang</td>\n",
       "      <td>Hà Nội</td>\n",
       "      <td>40.0</td>\n",
       "      <td>900000.0</td>\n",
       "    </tr>\n",
       "    <tr>\n",
       "      <th>1</th>\n",
       "      <td>Bà Rịa -Vũng Tàu</td>\n",
       "      <td>Hà Nội</td>\n",
       "      <td>40.0</td>\n",
       "      <td>800000.0</td>\n",
       "    </tr>\n",
       "    <tr>\n",
       "      <th>2</th>\n",
       "      <td>Bà Rịa -Vũng Tàu</td>\n",
       "      <td>Hà Nội</td>\n",
       "      <td>42.0</td>\n",
       "      <td>700000.0</td>\n",
       "    </tr>\n",
       "    <tr>\n",
       "      <th>3</th>\n",
       "      <td>Bà Rịa -Vũng Tàu</td>\n",
       "      <td>Hà Nội</td>\n",
       "      <td>40.0</td>\n",
       "      <td>850000.0</td>\n",
       "    </tr>\n",
       "    <tr>\n",
       "      <th>4</th>\n",
       "      <td>Bắc Giang</td>\n",
       "      <td>Hà Nội</td>\n",
       "      <td>28.0</td>\n",
       "      <td>50000.0</td>\n",
       "    </tr>\n",
       "  </tbody>\n",
       "</table>\n",
       "</div>"
      ],
      "text/plain": [
       "            Điểm đi Điểm đến  Số chỗ  Giá (VNĐ)\n",
       "0          An Giang   Hà Nội    40.0   900000.0\n",
       "1  Bà Rịa -Vũng Tàu   Hà Nội    40.0   800000.0\n",
       "2  Bà Rịa -Vũng Tàu   Hà Nội    42.0   700000.0\n",
       "3  Bà Rịa -Vũng Tàu   Hà Nội    40.0   850000.0\n",
       "4         Bắc Giang   Hà Nội    28.0    50000.0"
      ]
     },
     "execution_count": 2,
     "metadata": {},
     "output_type": "execute_result"
    }
   ],
   "source": [
    "df = pd.read_csv('tickets.tsv', sep='\\t')\n",
    "df.head()"
   ]
  },
  {
   "cell_type": "markdown",
   "metadata": {
    "id": "81WEXHU5a8T6"
   },
   "source": [
    "### Dữ liệu có bao nhiêu dòng và bao nhiêu cột?"
   ]
  },
  {
   "cell_type": "code",
   "execution_count": 3,
   "metadata": {
    "colab": {
     "base_uri": "https://localhost:8080/"
    },
    "executionInfo": {
     "elapsed": 44,
     "status": "ok",
     "timestamp": 1630852145222,
     "user": {
      "displayName": "Trung Kiên Nguyễn",
      "photoUrl": "https://lh3.googleusercontent.com/a-/AOh14Gjvxk64OsMJDUQBjr8geO1i6cEJenCRN2qQ7JRWTw=s64",
      "userId": "11085371309446490037"
     },
     "user_tz": -420
    },
    "id": "nOIkPFXnC3jz",
    "outputId": "a5bc00ee-4070-49b6-a535-a5155650f90e"
   },
   "outputs": [
    {
     "data": {
      "text/plain": [
       "(10692, 4)"
      ]
     },
     "execution_count": 3,
     "metadata": {},
     "output_type": "execute_result"
    }
   ],
   "source": [
    "df.shape"
   ]
  },
  {
   "cell_type": "markdown",
   "metadata": {
    "id": "adWPLNUyyH2g"
   },
   "source": [
    "### Dữ liệu có gì bất thường không?"
   ]
  },
  {
   "cell_type": "code",
   "execution_count": 4,
   "metadata": {
    "colab": {
     "base_uri": "https://localhost:8080/",
     "height": 300
    },
    "executionInfo": {
     "elapsed": 41,
     "status": "ok",
     "timestamp": 1630852145223,
     "user": {
      "displayName": "Trung Kiên Nguyễn",
      "photoUrl": "https://lh3.googleusercontent.com/a-/AOh14Gjvxk64OsMJDUQBjr8geO1i6cEJenCRN2qQ7JRWTw=s64",
      "userId": "11085371309446490037"
     },
     "user_tz": -420
    },
    "id": "itCqw50PyKzo",
    "outputId": "e5c308fd-bc2a-496f-b99e-69616a0e80d6"
   },
   "outputs": [
    {
     "data": {
      "text/html": [
       "<div>\n",
       "<style scoped>\n",
       "    .dataframe tbody tr th:only-of-type {\n",
       "        vertical-align: middle;\n",
       "    }\n",
       "\n",
       "    .dataframe tbody tr th {\n",
       "        vertical-align: top;\n",
       "    }\n",
       "\n",
       "    .dataframe thead th {\n",
       "        text-align: right;\n",
       "    }\n",
       "</style>\n",
       "<table border=\"1\" class=\"dataframe\">\n",
       "  <thead>\n",
       "    <tr style=\"text-align: right;\">\n",
       "      <th></th>\n",
       "      <th>Số chỗ</th>\n",
       "      <th>Giá (VNĐ)</th>\n",
       "    </tr>\n",
       "  </thead>\n",
       "  <tbody>\n",
       "    <tr>\n",
       "      <th>count</th>\n",
       "      <td>10692.000000</td>\n",
       "      <td>1.069200e+04</td>\n",
       "    </tr>\n",
       "    <tr>\n",
       "      <th>mean</th>\n",
       "      <td>36.679761</td>\n",
       "      <td>2.345294e+05</td>\n",
       "    </tr>\n",
       "    <tr>\n",
       "      <th>std</th>\n",
       "      <td>10.330193</td>\n",
       "      <td>1.852427e+05</td>\n",
       "    </tr>\n",
       "    <tr>\n",
       "      <th>min</th>\n",
       "      <td>7.000000</td>\n",
       "      <td>2.000000e+04</td>\n",
       "    </tr>\n",
       "    <tr>\n",
       "      <th>25%</th>\n",
       "      <td>39.000000</td>\n",
       "      <td>1.100000e+05</td>\n",
       "    </tr>\n",
       "    <tr>\n",
       "      <th>50%</th>\n",
       "      <td>40.000000</td>\n",
       "      <td>1.800000e+05</td>\n",
       "    </tr>\n",
       "    <tr>\n",
       "      <th>75%</th>\n",
       "      <td>44.000000</td>\n",
       "      <td>2.800000e+05</td>\n",
       "    </tr>\n",
       "    <tr>\n",
       "      <th>max</th>\n",
       "      <td>120.000000</td>\n",
       "      <td>1.400000e+06</td>\n",
       "    </tr>\n",
       "  </tbody>\n",
       "</table>\n",
       "</div>"
      ],
      "text/plain": [
       "             Số chỗ     Giá (VNĐ)\n",
       "count  10692.000000  1.069200e+04\n",
       "mean      36.679761  2.345294e+05\n",
       "std       10.330193  1.852427e+05\n",
       "min        7.000000  2.000000e+04\n",
       "25%       39.000000  1.100000e+05\n",
       "50%       40.000000  1.800000e+05\n",
       "75%       44.000000  2.800000e+05\n",
       "max      120.000000  1.400000e+06"
      ]
     },
     "execution_count": 4,
     "metadata": {},
     "output_type": "execute_result"
    }
   ],
   "source": [
    "df.describe()"
   ]
  },
  {
   "cell_type": "markdown",
   "metadata": {
    "id": "8kpM_4pNyq8F"
   },
   "source": [
    "Ở đây có điều bất thường. Tại cột \"Số chỗ\" ta thấy max là 120, điều này là vô lý, có thể là do lúc nhập liệu bên phía website bị nhầm.\n",
    "\n",
    "Do đó, ta sẽ xóa các dòng mà tại đó, cột \"Số chỗ\" bằng 120."
   ]
  },
  {
   "cell_type": "code",
   "execution_count": 5,
   "metadata": {
    "id": "_ZYv9ac30DuF"
   },
   "outputs": [],
   "source": [
    "df = df.drop(df[df['Số chỗ'] == 120].index)"
   ]
  },
  {
   "cell_type": "markdown",
   "metadata": {
    "id": "k99RgLz1bPFA"
   },
   "source": [
    "### Mỗi dòng có ý nghĩa gì? Có vấn đề các dòng có ý nghĩa khác nhau không?"
   ]
  },
  {
   "cell_type": "markdown",
   "metadata": {
    "id": "zvffbPbrcE14"
   },
   "source": [
    "Mỗi dòng chứa thông tin của một tuyến xe và không có vấn đề các dòng có ý nghĩa khác nhau."
   ]
  },
  {
   "cell_type": "markdown",
   "metadata": {
    "id": "e0B2olIlbT_h"
   },
   "source": [
    "### Dữ liệu có các dòng bị lặp không?"
   ]
  },
  {
   "cell_type": "code",
   "execution_count": 6,
   "metadata": {
    "colab": {
     "base_uri": "https://localhost:8080/"
    },
    "executionInfo": {
     "elapsed": 40,
     "status": "ok",
     "timestamp": 1630852145224,
     "user": {
      "displayName": "Trung Kiên Nguyễn",
      "photoUrl": "https://lh3.googleusercontent.com/a-/AOh14Gjvxk64OsMJDUQBjr8geO1i6cEJenCRN2qQ7JRWTw=s64",
      "userId": "11085371309446490037"
     },
     "user_tz": -420
    },
    "id": "JZ3QLc9lbjlM",
    "outputId": "66840156-7308-4c29-ddf2-4fc6435bf4f0"
   },
   "outputs": [
    {
     "data": {
      "text/plain": [
       "6469"
      ]
     },
     "execution_count": 6,
     "metadata": {},
     "output_type": "execute_result"
    }
   ],
   "source": [
    "df.duplicated().sum()"
   ]
  },
  {
   "cell_type": "markdown",
   "metadata": {
    "id": "wjtcIbH7bwq5"
   },
   "source": [
    "Ta thấy rằng có nhiều dòng bị lặp. Điều này là do ở cột \"Điểm đi\" và \"Điểm đến\" còn có mốc **thời gian khởi hành** và **thời gian đến** khác nhau (kiểm tra trực tiếp tại trang web) nhưng ta không lấy thông tin này về, do đó dữ liệu bị lặp."
   ]
  },
  {
   "cell_type": "code",
   "execution_count": 7,
   "metadata": {
    "colab": {
     "base_uri": "https://localhost:8080/"
    },
    "executionInfo": {
     "elapsed": 36,
     "status": "ok",
     "timestamp": 1630852145225,
     "user": {
      "displayName": "Trung Kiên Nguyễn",
      "photoUrl": "https://lh3.googleusercontent.com/a-/AOh14Gjvxk64OsMJDUQBjr8geO1i6cEJenCRN2qQ7JRWTw=s64",
      "userId": "11085371309446490037"
     },
     "user_tz": -420
    },
    "id": "vqyqmclSFCsM",
    "outputId": "d5e5314f-ac6e-4371-9cb7-af740a38c254"
   },
   "outputs": [
    {
     "data": {
      "text/plain": [
       "(4221, 4)"
      ]
     },
     "execution_count": 7,
     "metadata": {},
     "output_type": "execute_result"
    }
   ],
   "source": [
    "new_df = df.drop_duplicates()\n",
    "new_df.shape"
   ]
  },
  {
   "cell_type": "markdown",
   "metadata": {
    "id": "OIeZLU02c6kB"
   },
   "source": [
    "## 3. Đưa ra câu hỏi cần trả lời"
   ]
  },
  {
   "cell_type": "markdown",
   "metadata": {
    "id": "W0ef7KfLc9L2"
   },
   "source": [
    "- **Câu hỏi:** Có công thức nào để dự đoán được giá vé xe (1 chiều) khi biết thông tin về điểm đi, điểm đến và số chỗ ngồi trên xe hay không?\n",
    "\n",
    "- **Ý nghĩa khi trả lời câu hỏi trên:** Một doanh nghiệp đang có ý định mở một dịch vụ xe khách nhưng không biết giá vé tiêu chuẩn của các hãng xe trên thị trường đang là khoảng bao nhiêu. Doanh nghiệp chỉ biết được điểm đi, điểm đến dự kiến và số ghế ngồi trên xe mà doanh nghiệp đang sở hữu. Khi đó, phần mềm dự đoán vé xe dựa vào 3 tiêu chí (điểm đi, điểm đến, số chỗ) như trên sẽ giúp chủ doanh nghiệp nắm bắt được giá cả của thị trường."
   ]
  },
  {
   "cell_type": "markdown",
   "metadata": {
    "id": "-himw4dhajw5"
   },
   "source": [
    "## 4. Tiền xử lý dữ liệu"
   ]
  },
  {
   "cell_type": "markdown",
   "metadata": {
    "id": "WXNvMFMrgQKI"
   },
   "source": [
    "Các cột dạng số (numerical) và không phải dạng số (categorical)."
   ]
  },
  {
   "cell_type": "code",
   "execution_count": 8,
   "metadata": {
    "id": "Z6HodcZs_klA"
   },
   "outputs": [],
   "source": [
    "nume_cols = ['Số chỗ']\n",
    "cate_cols = ['Điểm đi', 'Điểm đến']"
   ]
  },
  {
   "cell_type": "markdown",
   "metadata": {
    "id": "Hg32gjqnLUWV"
   },
   "source": [
    "Format lại tên một số tỉnh thành. Lát nữa ta sẽ dùng OneHotEncoder để chuyển dữ liệu ở hai cột \"Điểm đi\" và \"Điểm đến\" thành dạng số."
   ]
  },
  {
   "cell_type": "code",
   "execution_count": 9,
   "metadata": {
    "colab": {
     "base_uri": "https://localhost:8080/"
    },
    "executionInfo": {
     "elapsed": 34,
     "status": "ok",
     "timestamp": 1630852145227,
     "user": {
      "displayName": "Trung Kiên Nguyễn",
      "photoUrl": "https://lh3.googleusercontent.com/a-/AOh14Gjvxk64OsMJDUQBjr8geO1i6cEJenCRN2qQ7JRWTw=s64",
      "userId": "11085371309446490037"
     },
     "user_tz": -420
    },
    "id": "HdecmlvxK644",
    "outputId": "1c1bf2aa-6be9-424c-adf5-2c76dffe2d48"
   },
   "outputs": [
    {
     "name": "stderr",
     "output_type": "stream",
     "text": [
      "C:\\Users\\Kien\\anaconda3\\envs\\min_ds-env\\lib\\site-packages\\pandas\\core\\frame.py:3191: SettingWithCopyWarning: \n",
      "A value is trying to be set on a copy of a slice from a DataFrame.\n",
      "Try using .loc[row_indexer,col_indexer] = value instead\n",
      "\n",
      "See the caveats in the documentation: https://pandas.pydata.org/pandas-docs/stable/user_guide/indexing.html#returning-a-view-versus-a-copy\n",
      "  self[k1] = value[k2]\n"
     ]
    }
   ],
   "source": [
    "# Chữ trong các cột dạng categorial chuyển thành chữ thường\n",
    "new_df[cate_cols] = new_df[cate_cols].applymap(lambda s: s.lower())\n",
    "\n",
    "# Các lỗi trong tập dữ liệu (a)\n",
    "a = ['bà rịa -vũng tàu', 'nha trang khánh hòa', 'nha trang', 'thừa thiên huế', \\\n",
    "     'vinh nghệ an', 'vinh', 'điện biên phủ', 'tphcm sài gòn', 'đà lạt', 'tuy hòa']\n",
    "# ... mà ta cần format lại (b)\n",
    "b = ['vũng tàu', 'khánh hòa', 'khánh hòa', 'huế', \\\n",
    "     'nghệ an', 'nghệ an', 'điện biên', 'sài gòn', 'lâm đồng', 'phú yên']\n",
    "\n",
    "# Sửa trên các cột dạng categorical\n",
    "new_df[cate_cols] = new_df[cate_cols].replace(a, b)"
   ]
  },
  {
   "cell_type": "markdown",
   "metadata": {
    "id": "vxRtZY6cFars"
   },
   "source": [
    "Kiểm tra lại xem sau khi format thì các loại giá trị của hai cột đã giống nhau hay chưa?"
   ]
  },
  {
   "cell_type": "code",
   "execution_count": 10,
   "metadata": {
    "colab": {
     "base_uri": "https://localhost:8080/"
    },
    "executionInfo": {
     "elapsed": 30,
     "status": "ok",
     "timestamp": 1630852145229,
     "user": {
      "displayName": "Trung Kiên Nguyễn",
      "photoUrl": "https://lh3.googleusercontent.com/a-/AOh14Gjvxk64OsMJDUQBjr8geO1i6cEJenCRN2qQ7JRWTw=s64",
      "userId": "11085371309446490037"
     },
     "user_tz": -420
    },
    "id": "8rRTpR2_C_RT",
    "outputId": "7fa7e8da-195f-49be-cb13-6776818d038a"
   },
   "outputs": [
    {
     "data": {
      "text/plain": [
       "True"
      ]
     },
     "execution_count": 10,
     "metadata": {},
     "output_type": "execute_result"
    }
   ],
   "source": [
    "set(new_df['Điểm đi'].unique()) == set(new_df['Điểm đến'].unique())"
   ]
  },
  {
   "cell_type": "code",
   "execution_count": 11,
   "metadata": {
    "colab": {
     "base_uri": "https://localhost:8080/"
    },
    "executionInfo": {
     "elapsed": 26,
     "status": "ok",
     "timestamp": 1630852145229,
     "user": {
      "displayName": "Trung Kiên Nguyễn",
      "photoUrl": "https://lh3.googleusercontent.com/a-/AOh14Gjvxk64OsMJDUQBjr8geO1i6cEJenCRN2qQ7JRWTw=s64",
      "userId": "11085371309446490037"
     },
     "user_tz": -420
    },
    "id": "zs2CEolUG7yq",
    "outputId": "970da106-a4fd-4e71-848d-e4d1848caa03"
   },
   "outputs": [
    {
     "data": {
      "text/plain": [
       "63"
      ]
     },
     "execution_count": 11,
     "metadata": {},
     "output_type": "execute_result"
    }
   ],
   "source": [
    "len(new_df['Điểm đi'].unique())"
   ]
  },
  {
   "cell_type": "markdown",
   "metadata": {
    "id": "jQd-oBvWXAWf"
   },
   "source": [
    "Save lại để sử dụng về sau hoặc để kiểm tra lại dữ liệu sau khi được xử lý (bằng mắt)."
   ]
  },
  {
   "cell_type": "code",
   "execution_count": 12,
   "metadata": {
    "id": "LryS6zniOvFM"
   },
   "outputs": [],
   "source": [
    "new_df.to_csv('preprocessed_tickets.tsv', sep='\\t', index=False)"
   ]
  },
  {
   "cell_type": "markdown",
   "metadata": {
    "id": "mlVgQFzuy5Qo"
   },
   "source": [
    "### 4.1. Tách các tập"
   ]
  },
  {
   "cell_type": "markdown",
   "metadata": {
    "id": "E-6T9l1ssa2W"
   },
   "source": [
    "Tách tập dữ liệu thành 3 tập: train, validation và test theo tỉ lệ 60/20/20."
   ]
  },
  {
   "cell_type": "code",
   "execution_count": 13,
   "metadata": {
    "id": "BnX58O28s161"
   },
   "outputs": [],
   "source": [
    "# Tách X và y\n",
    "y = new_df['Giá (VNĐ)']\n",
    "X = new_df.drop('Giá (VNĐ)', axis=1)"
   ]
  },
  {
   "cell_type": "code",
   "execution_count": 14,
   "metadata": {
    "id": "q16P3gTbtNR_"
   },
   "outputs": [],
   "source": [
    "# Tách thành train (80%) và test (20%)\n",
    "X_train_val, X_test, y_train_val, y_test = train_test_split(X, y, test_size=0.2, random_state=0)\n",
    "\n",
    "# Tách thành train (60%) và val (20%)\n",
    "# 0.8 * 0.25 = 0.2\n",
    "X_train, X_val, y_train, y_val = train_test_split(X_train_val, y_train_val, test_size=0.25, random_state=0)"
   ]
  },
  {
   "cell_type": "code",
   "execution_count": 15,
   "metadata": {
    "colab": {
     "base_uri": "https://localhost:8080/"
    },
    "executionInfo": {
     "elapsed": 23,
     "status": "ok",
     "timestamp": 1630852145687,
     "user": {
      "displayName": "Trung Kiên Nguyễn",
      "photoUrl": "https://lh3.googleusercontent.com/a-/AOh14Gjvxk64OsMJDUQBjr8geO1i6cEJenCRN2qQ7JRWTw=s64",
      "userId": "11085371309446490037"
     },
     "user_tz": -420
    },
    "id": "l10m-6mlxdAR",
    "outputId": "20551fae-b550-4e72-9331-74be12fecffd"
   },
   "outputs": [
    {
     "name": "stdout",
     "output_type": "stream",
     "text": [
      "X_train = (2532, 3)\n",
      "X_val   = (844, 3)\n",
      "X_test  = (845, 3)\n"
     ]
    }
   ],
   "source": [
    "# Kích thước của X_train, X_val, X_test\n",
    "print(f'X_train = {X_train.shape}')\n",
    "print(f'X_val   = {X_val.shape}')\n",
    "print(f'X_test  = {X_test.shape}')"
   ]
  },
  {
   "cell_type": "markdown",
   "metadata": {
    "id": "dGSmzcMxzGK4"
   },
   "source": [
    "### 4.2. Tiền xử lý tập train"
   ]
  },
  {
   "cell_type": "markdown",
   "metadata": {
    "id": "wJPsz9zlTuv9"
   },
   "source": [
    "- Với cột dạng số `nume_cols`, ta giá trị thiếu bằng giá trị mean của cột.\n",
    "- Với cột không phải dạng số `cate_cols`\n",
    "  - Ta điền giá trị thiếu bằng giá trị xuất hiện nhiều nhất của cột.\n",
    "  - Sau đó, chuyển sang dạng số bằng phương pháp one-hot encoder.\n",
    "- Cuối cùng, khi tất cả các cột đã được điền giá trị thiếu và đã có dạng số, ta sẽ tiến hành chuẩn hóa."
   ]
  },
  {
   "cell_type": "code",
   "execution_count": 16,
   "metadata": {
    "id": "EMCis5XE1Jes"
   },
   "outputs": [],
   "source": [
    "# Các cột dạng số\n",
    "nume_transformer = SimpleImputer(strategy='mean')\n",
    "\n",
    "# Các cột không phải dạng số\n",
    "cate_transformer = Pipeline(steps=[\n",
    "    ('impute', SimpleImputer(strategy='most_frequent')),\n",
    "    ('encode', OneHotEncoder(handle_unknown='ignore')),\n",
    "])\n",
    "\n",
    "# Tổng hợp 2 transformer bên trên lại\n",
    "Preprocessor = ColumnTransformer(\n",
    "    transformers=[\n",
    "        ('cate', cate_transformer, cate_cols),\n",
    "        ('nume', nume_transformer, nume_cols),\n",
    "    ])\n",
    "\n",
    "# Tạo pipeline\n",
    "preprocess_pipeline = Pipeline(steps=[\n",
    "    ('impute_encode', Preprocessor),\n",
    "    ('scale', StandardScaler(with_mean=False)),\n",
    "])"
   ]
  },
  {
   "cell_type": "code",
   "execution_count": 17,
   "metadata": {
    "colab": {
     "base_uri": "https://localhost:8080/",
     "height": 199
    },
    "executionInfo": {
     "elapsed": 21,
     "status": "ok",
     "timestamp": 1630852145689,
     "user": {
      "displayName": "Trung Kiên Nguyễn",
      "photoUrl": "https://lh3.googleusercontent.com/a-/AOh14Gjvxk64OsMJDUQBjr8geO1i6cEJenCRN2qQ7JRWTw=s64",
      "userId": "11085371309446490037"
     },
     "user_tz": -420
    },
    "id": "7lA61Wqb4N3S",
    "outputId": "4561dfa5-4fcc-4de4-a5b9-b9254e492a84"
   },
   "outputs": [
    {
     "data": {
      "text/html": [
       "<style>#sk-e9a35899-096d-412b-a276-20e3277fb177 {color: black;background-color: white;}#sk-e9a35899-096d-412b-a276-20e3277fb177 pre{padding: 0;}#sk-e9a35899-096d-412b-a276-20e3277fb177 div.sk-toggleable {background-color: white;}#sk-e9a35899-096d-412b-a276-20e3277fb177 label.sk-toggleable__label {cursor: pointer;display: block;width: 100%;margin-bottom: 0;padding: 0.2em 0.3em;box-sizing: border-box;text-align: center;}#sk-e9a35899-096d-412b-a276-20e3277fb177 div.sk-toggleable__content {max-height: 0;max-width: 0;overflow: hidden;text-align: left;background-color: #f0f8ff;}#sk-e9a35899-096d-412b-a276-20e3277fb177 div.sk-toggleable__content pre {margin: 0.2em;color: black;border-radius: 0.25em;background-color: #f0f8ff;}#sk-e9a35899-096d-412b-a276-20e3277fb177 input.sk-toggleable__control:checked~div.sk-toggleable__content {max-height: 200px;max-width: 100%;overflow: auto;}#sk-e9a35899-096d-412b-a276-20e3277fb177 div.sk-estimator input.sk-toggleable__control:checked~label.sk-toggleable__label {background-color: #d4ebff;}#sk-e9a35899-096d-412b-a276-20e3277fb177 div.sk-label input.sk-toggleable__control:checked~label.sk-toggleable__label {background-color: #d4ebff;}#sk-e9a35899-096d-412b-a276-20e3277fb177 input.sk-hidden--visually {border: 0;clip: rect(1px 1px 1px 1px);clip: rect(1px, 1px, 1px, 1px);height: 1px;margin: -1px;overflow: hidden;padding: 0;position: absolute;width: 1px;}#sk-e9a35899-096d-412b-a276-20e3277fb177 div.sk-estimator {font-family: monospace;background-color: #f0f8ff;margin: 0.25em 0.25em;border: 1px dotted black;border-radius: 0.25em;box-sizing: border-box;}#sk-e9a35899-096d-412b-a276-20e3277fb177 div.sk-estimator:hover {background-color: #d4ebff;}#sk-e9a35899-096d-412b-a276-20e3277fb177 div.sk-parallel-item::after {content: \"\";width: 100%;border-bottom: 1px solid gray;flex-grow: 1;}#sk-e9a35899-096d-412b-a276-20e3277fb177 div.sk-label:hover label.sk-toggleable__label {background-color: #d4ebff;}#sk-e9a35899-096d-412b-a276-20e3277fb177 div.sk-serial::before {content: \"\";position: absolute;border-left: 1px solid gray;box-sizing: border-box;top: 2em;bottom: 0;left: 50%;}#sk-e9a35899-096d-412b-a276-20e3277fb177 div.sk-serial {display: flex;flex-direction: column;align-items: center;background-color: white;}#sk-e9a35899-096d-412b-a276-20e3277fb177 div.sk-item {z-index: 1;}#sk-e9a35899-096d-412b-a276-20e3277fb177 div.sk-parallel {display: flex;align-items: stretch;justify-content: center;background-color: white;}#sk-e9a35899-096d-412b-a276-20e3277fb177 div.sk-parallel-item {display: flex;flex-direction: column;position: relative;background-color: white;}#sk-e9a35899-096d-412b-a276-20e3277fb177 div.sk-parallel-item:first-child::after {align-self: flex-end;width: 50%;}#sk-e9a35899-096d-412b-a276-20e3277fb177 div.sk-parallel-item:last-child::after {align-self: flex-start;width: 50%;}#sk-e9a35899-096d-412b-a276-20e3277fb177 div.sk-parallel-item:only-child::after {width: 0;}#sk-e9a35899-096d-412b-a276-20e3277fb177 div.sk-dashed-wrapped {border: 1px dashed gray;margin: 0.2em;box-sizing: border-box;padding-bottom: 0.1em;background-color: white;position: relative;}#sk-e9a35899-096d-412b-a276-20e3277fb177 div.sk-label label {font-family: monospace;font-weight: bold;background-color: white;display: inline-block;line-height: 1.2em;}#sk-e9a35899-096d-412b-a276-20e3277fb177 div.sk-label-container {position: relative;z-index: 2;text-align: center;}#sk-e9a35899-096d-412b-a276-20e3277fb177 div.sk-container {display: inline-block;position: relative;}</style><div id=\"sk-e9a35899-096d-412b-a276-20e3277fb177\" class\"sk-top-container\"><div class=\"sk-container\"><div class=\"sk-item sk-dashed-wrapped\"><div class=\"sk-label-container\"><div class=\"sk-label sk-toggleable\"><input class=\"sk-toggleable__control sk-hidden--visually\" id=\"0b413445-c6c3-4a34-a49d-05eb03938b58\" type=\"checkbox\" ><label class=\"sk-toggleable__label\" for=\"0b413445-c6c3-4a34-a49d-05eb03938b58\">Pipeline</label><div class=\"sk-toggleable__content\"><pre>Pipeline(steps=[('impute_encode',\n",
       "                 ColumnTransformer(transformers=[('cate',\n",
       "                                                  Pipeline(steps=[('impute',\n",
       "                                                                   SimpleImputer(strategy='most_frequent')),\n",
       "                                                                  ('encode',\n",
       "                                                                   OneHotEncoder(handle_unknown='ignore'))]),\n",
       "                                                  ['Điểm đi', 'Điểm đến']),\n",
       "                                                 ('nume', SimpleImputer(),\n",
       "                                                  ['Số chỗ'])])),\n",
       "                ('scale', StandardScaler(with_mean=False))])</pre></div></div></div><div class=\"sk-serial\"><div class=\"sk-item sk-dashed-wrapped\"><div class=\"sk-label-container\"><div class=\"sk-label sk-toggleable\"><input class=\"sk-toggleable__control sk-hidden--visually\" id=\"4f0d1f59-ce58-486b-9b29-867ccecab330\" type=\"checkbox\" ><label class=\"sk-toggleable__label\" for=\"4f0d1f59-ce58-486b-9b29-867ccecab330\">impute_encode: ColumnTransformer</label><div class=\"sk-toggleable__content\"><pre>ColumnTransformer(transformers=[('cate',\n",
       "                                 Pipeline(steps=[('impute',\n",
       "                                                  SimpleImputer(strategy='most_frequent')),\n",
       "                                                 ('encode',\n",
       "                                                  OneHotEncoder(handle_unknown='ignore'))]),\n",
       "                                 ['Điểm đi', 'Điểm đến']),\n",
       "                                ('nume', SimpleImputer(), ['Số chỗ'])])</pre></div></div></div><div class=\"sk-parallel\"><div class=\"sk-parallel-item\"><div class=\"sk-item\"><div class=\"sk-label-container\"><div class=\"sk-label sk-toggleable\"><input class=\"sk-toggleable__control sk-hidden--visually\" id=\"e838ee78-4da0-4b47-9492-3716864002aa\" type=\"checkbox\" ><label class=\"sk-toggleable__label\" for=\"e838ee78-4da0-4b47-9492-3716864002aa\">cate</label><div class=\"sk-toggleable__content\"><pre>['Điểm đi', 'Điểm đến']</pre></div></div></div><div class=\"sk-serial\"><div class=\"sk-item\"><div class=\"sk-serial\"><div class=\"sk-item\"><div class=\"sk-estimator sk-toggleable\"><input class=\"sk-toggleable__control sk-hidden--visually\" id=\"37c8c6a7-c59f-44c4-bb7f-5ba958809203\" type=\"checkbox\" ><label class=\"sk-toggleable__label\" for=\"37c8c6a7-c59f-44c4-bb7f-5ba958809203\">SimpleImputer</label><div class=\"sk-toggleable__content\"><pre>SimpleImputer(strategy='most_frequent')</pre></div></div></div><div class=\"sk-item\"><div class=\"sk-estimator sk-toggleable\"><input class=\"sk-toggleable__control sk-hidden--visually\" id=\"5cb1b178-adb7-40f7-aa29-c683d4134dd4\" type=\"checkbox\" ><label class=\"sk-toggleable__label\" for=\"5cb1b178-adb7-40f7-aa29-c683d4134dd4\">OneHotEncoder</label><div class=\"sk-toggleable__content\"><pre>OneHotEncoder(handle_unknown='ignore')</pre></div></div></div></div></div></div></div></div><div class=\"sk-parallel-item\"><div class=\"sk-item\"><div class=\"sk-label-container\"><div class=\"sk-label sk-toggleable\"><input class=\"sk-toggleable__control sk-hidden--visually\" id=\"1a50a547-7cb7-40fa-918f-d35bc8af44b0\" type=\"checkbox\" ><label class=\"sk-toggleable__label\" for=\"1a50a547-7cb7-40fa-918f-d35bc8af44b0\">nume</label><div class=\"sk-toggleable__content\"><pre>['Số chỗ']</pre></div></div></div><div class=\"sk-serial\"><div class=\"sk-item\"><div class=\"sk-estimator sk-toggleable\"><input class=\"sk-toggleable__control sk-hidden--visually\" id=\"4225c073-bd3d-4936-b2f0-b4e6aaa3dbfa\" type=\"checkbox\" ><label class=\"sk-toggleable__label\" for=\"4225c073-bd3d-4936-b2f0-b4e6aaa3dbfa\">SimpleImputer</label><div class=\"sk-toggleable__content\"><pre>SimpleImputer()</pre></div></div></div></div></div></div></div></div><div class=\"sk-item\"><div class=\"sk-estimator sk-toggleable\"><input class=\"sk-toggleable__control sk-hidden--visually\" id=\"768fb78c-bfb9-4fb9-823e-086112869691\" type=\"checkbox\" ><label class=\"sk-toggleable__label\" for=\"768fb78c-bfb9-4fb9-823e-086112869691\">StandardScaler</label><div class=\"sk-toggleable__content\"><pre>StandardScaler(with_mean=False)</pre></div></div></div></div></div></div></div>"
      ],
      "text/plain": [
       "Pipeline(steps=[('impute_encode',\n",
       "                 ColumnTransformer(transformers=[('cate',\n",
       "                                                  Pipeline(steps=[('impute',\n",
       "                                                                   SimpleImputer(strategy='most_frequent')),\n",
       "                                                                  ('encode',\n",
       "                                                                   OneHotEncoder(handle_unknown='ignore'))]),\n",
       "                                                  ['Điểm đi', 'Điểm đến']),\n",
       "                                                 ('nume', SimpleImputer(),\n",
       "                                                  ['Số chỗ'])])),\n",
       "                ('scale', StandardScaler(with_mean=False))])"
      ]
     },
     "execution_count": 17,
     "metadata": {},
     "output_type": "execute_result"
    }
   ],
   "source": [
    "preprocess_pipeline"
   ]
  },
  {
   "cell_type": "code",
   "execution_count": 18,
   "metadata": {
    "id": "gMIyTYoLSGgV"
   },
   "outputs": [],
   "source": [
    "# Fit pipeline với X_train\n",
    "preprocessed_X_train = preprocess_pipeline.fit_transform(X_train)"
   ]
  },
  {
   "cell_type": "code",
   "execution_count": 19,
   "metadata": {
    "colab": {
     "base_uri": "https://localhost:8080/"
    },
    "executionInfo": {
     "elapsed": 21,
     "status": "ok",
     "timestamp": 1630852145691,
     "user": {
      "displayName": "Trung Kiên Nguyễn",
      "photoUrl": "https://lh3.googleusercontent.com/a-/AOh14Gjvxk64OsMJDUQBjr8geO1i6cEJenCRN2qQ7JRWTw=s64",
      "userId": "11085371309446490037"
     },
     "user_tz": -420
    },
    "id": "TIAjU2kUCYNH",
    "outputId": "15900ea1-7fa6-487a-c95c-82e2c8a537fc"
   },
   "outputs": [
    {
     "data": {
      "text/plain": [
       "(2532, 127)"
      ]
     },
     "execution_count": 19,
     "metadata": {},
     "output_type": "execute_result"
    }
   ],
   "source": [
    "# Kích thước của X_train sau khi đưa qua pipeline\n",
    "preprocessed_X_train.shape"
   ]
  },
  {
   "cell_type": "code",
   "execution_count": 20,
   "metadata": {
    "colab": {
     "base_uri": "https://localhost:8080/",
     "height": 255
    },
    "executionInfo": {
     "elapsed": 17,
     "status": "ok",
     "timestamp": 1630852145691,
     "user": {
      "displayName": "Trung Kiên Nguyễn",
      "photoUrl": "https://lh3.googleusercontent.com/a-/AOh14Gjvxk64OsMJDUQBjr8geO1i6cEJenCRN2qQ7JRWTw=s64",
      "userId": "11085371309446490037"
     },
     "user_tz": -420
    },
    "id": "ZXZSAfsXIkH3",
    "outputId": "0fd412cf-d18c-40cd-a914-168540d07512"
   },
   "outputs": [
    {
     "data": {
      "text/html": [
       "<div>\n",
       "<style scoped>\n",
       "    .dataframe tbody tr th:only-of-type {\n",
       "        vertical-align: middle;\n",
       "    }\n",
       "\n",
       "    .dataframe tbody tr th {\n",
       "        vertical-align: top;\n",
       "    }\n",
       "\n",
       "    .dataframe thead th {\n",
       "        text-align: right;\n",
       "    }\n",
       "</style>\n",
       "<table border=\"1\" class=\"dataframe\">\n",
       "  <thead>\n",
       "    <tr style=\"text-align: right;\">\n",
       "      <th></th>\n",
       "      <th>0</th>\n",
       "      <th>1</th>\n",
       "      <th>2</th>\n",
       "      <th>3</th>\n",
       "      <th>4</th>\n",
       "      <th>5</th>\n",
       "      <th>6</th>\n",
       "      <th>7</th>\n",
       "      <th>8</th>\n",
       "      <th>9</th>\n",
       "      <th>...</th>\n",
       "      <th>117</th>\n",
       "      <th>118</th>\n",
       "      <th>119</th>\n",
       "      <th>120</th>\n",
       "      <th>121</th>\n",
       "      <th>122</th>\n",
       "      <th>123</th>\n",
       "      <th>124</th>\n",
       "      <th>125</th>\n",
       "      <th>126</th>\n",
       "    </tr>\n",
       "  </thead>\n",
       "  <tbody>\n",
       "    <tr>\n",
       "      <th>0</th>\n",
       "      <td>0.0</td>\n",
       "      <td>0.000000</td>\n",
       "      <td>0.0</td>\n",
       "      <td>0.0</td>\n",
       "      <td>0.0</td>\n",
       "      <td>0.0</td>\n",
       "      <td>0.0</td>\n",
       "      <td>0.0</td>\n",
       "      <td>0.0</td>\n",
       "      <td>0.0</td>\n",
       "      <td>...</td>\n",
       "      <td>0.0</td>\n",
       "      <td>0.0</td>\n",
       "      <td>0.0</td>\n",
       "      <td>0.0</td>\n",
       "      <td>0.0</td>\n",
       "      <td>0.0</td>\n",
       "      <td>0.0</td>\n",
       "      <td>0.0</td>\n",
       "      <td>0.0</td>\n",
       "      <td>5.376187</td>\n",
       "    </tr>\n",
       "    <tr>\n",
       "      <th>1</th>\n",
       "      <td>0.0</td>\n",
       "      <td>0.000000</td>\n",
       "      <td>0.0</td>\n",
       "      <td>0.0</td>\n",
       "      <td>0.0</td>\n",
       "      <td>0.0</td>\n",
       "      <td>0.0</td>\n",
       "      <td>0.0</td>\n",
       "      <td>0.0</td>\n",
       "      <td>0.0</td>\n",
       "      <td>...</td>\n",
       "      <td>0.0</td>\n",
       "      <td>0.0</td>\n",
       "      <td>0.0</td>\n",
       "      <td>0.0</td>\n",
       "      <td>0.0</td>\n",
       "      <td>0.0</td>\n",
       "      <td>0.0</td>\n",
       "      <td>0.0</td>\n",
       "      <td>0.0</td>\n",
       "      <td>5.376187</td>\n",
       "    </tr>\n",
       "    <tr>\n",
       "      <th>2</th>\n",
       "      <td>0.0</td>\n",
       "      <td>0.000000</td>\n",
       "      <td>0.0</td>\n",
       "      <td>0.0</td>\n",
       "      <td>0.0</td>\n",
       "      <td>0.0</td>\n",
       "      <td>0.0</td>\n",
       "      <td>0.0</td>\n",
       "      <td>0.0</td>\n",
       "      <td>0.0</td>\n",
       "      <td>...</td>\n",
       "      <td>0.0</td>\n",
       "      <td>0.0</td>\n",
       "      <td>0.0</td>\n",
       "      <td>0.0</td>\n",
       "      <td>0.0</td>\n",
       "      <td>0.0</td>\n",
       "      <td>0.0</td>\n",
       "      <td>0.0</td>\n",
       "      <td>0.0</td>\n",
       "      <td>5.256716</td>\n",
       "    </tr>\n",
       "    <tr>\n",
       "      <th>3</th>\n",
       "      <td>0.0</td>\n",
       "      <td>11.026323</td>\n",
       "      <td>0.0</td>\n",
       "      <td>0.0</td>\n",
       "      <td>0.0</td>\n",
       "      <td>0.0</td>\n",
       "      <td>0.0</td>\n",
       "      <td>0.0</td>\n",
       "      <td>0.0</td>\n",
       "      <td>0.0</td>\n",
       "      <td>...</td>\n",
       "      <td>0.0</td>\n",
       "      <td>0.0</td>\n",
       "      <td>0.0</td>\n",
       "      <td>0.0</td>\n",
       "      <td>0.0</td>\n",
       "      <td>0.0</td>\n",
       "      <td>0.0</td>\n",
       "      <td>0.0</td>\n",
       "      <td>0.0</td>\n",
       "      <td>5.137245</td>\n",
       "    </tr>\n",
       "    <tr>\n",
       "      <th>4</th>\n",
       "      <td>0.0</td>\n",
       "      <td>0.000000</td>\n",
       "      <td>0.0</td>\n",
       "      <td>0.0</td>\n",
       "      <td>0.0</td>\n",
       "      <td>0.0</td>\n",
       "      <td>0.0</td>\n",
       "      <td>0.0</td>\n",
       "      <td>0.0</td>\n",
       "      <td>0.0</td>\n",
       "      <td>...</td>\n",
       "      <td>0.0</td>\n",
       "      <td>0.0</td>\n",
       "      <td>0.0</td>\n",
       "      <td>0.0</td>\n",
       "      <td>0.0</td>\n",
       "      <td>0.0</td>\n",
       "      <td>0.0</td>\n",
       "      <td>0.0</td>\n",
       "      <td>0.0</td>\n",
       "      <td>4.778833</td>\n",
       "    </tr>\n",
       "  </tbody>\n",
       "</table>\n",
       "<p>5 rows × 127 columns</p>\n",
       "</div>"
      ],
      "text/plain": [
       "   0          1    2    3    4    5    6    7    8    9    ...  117  118  119  \\\n",
       "0  0.0   0.000000  0.0  0.0  0.0  0.0  0.0  0.0  0.0  0.0  ...  0.0  0.0  0.0   \n",
       "1  0.0   0.000000  0.0  0.0  0.0  0.0  0.0  0.0  0.0  0.0  ...  0.0  0.0  0.0   \n",
       "2  0.0   0.000000  0.0  0.0  0.0  0.0  0.0  0.0  0.0  0.0  ...  0.0  0.0  0.0   \n",
       "3  0.0  11.026323  0.0  0.0  0.0  0.0  0.0  0.0  0.0  0.0  ...  0.0  0.0  0.0   \n",
       "4  0.0   0.000000  0.0  0.0  0.0  0.0  0.0  0.0  0.0  0.0  ...  0.0  0.0  0.0   \n",
       "\n",
       "   120  121  122  123  124  125       126  \n",
       "0  0.0  0.0  0.0  0.0  0.0  0.0  5.376187  \n",
       "1  0.0  0.0  0.0  0.0  0.0  0.0  5.376187  \n",
       "2  0.0  0.0  0.0  0.0  0.0  0.0  5.256716  \n",
       "3  0.0  0.0  0.0  0.0  0.0  0.0  5.137245  \n",
       "4  0.0  0.0  0.0  0.0  0.0  0.0  4.778833  \n",
       "\n",
       "[5 rows x 127 columns]"
      ]
     },
     "execution_count": 20,
     "metadata": {},
     "output_type": "execute_result"
    }
   ],
   "source": [
    "# Nhìn qua tập train sau khi được xử lý\n",
    "pd.DataFrame(preprocessed_X_train.toarray()).head()"
   ]
  },
  {
   "cell_type": "markdown",
   "metadata": {
    "id": "IpfET-u0F9nk"
   },
   "source": [
    "## 5. Mô hình hóa dữ liệu"
   ]
  },
  {
   "cell_type": "markdown",
   "metadata": {
    "id": "DDwJe-_nKnsd"
   },
   "source": [
    "Tạo full pipeline."
   ]
  },
  {
   "cell_type": "code",
   "execution_count": 21,
   "metadata": {
    "colab": {
     "base_uri": "https://localhost:8080/",
     "height": 253
    },
    "executionInfo": {
     "elapsed": 19,
     "status": "ok",
     "timestamp": 1630852145694,
     "user": {
      "displayName": "Trung Kiên Nguyễn",
      "photoUrl": "https://lh3.googleusercontent.com/a-/AOh14Gjvxk64OsMJDUQBjr8geO1i6cEJenCRN2qQ7JRWTw=s64",
      "userId": "11085371309446490037"
     },
     "user_tz": -420
    },
    "id": "WbwUmAYtsTkB",
    "outputId": "c82799bb-5a33-4463-b8b1-ac5b44da150a"
   },
   "outputs": [
    {
     "data": {
      "text/html": [
       "<style>#sk-12d88239-ee72-4779-acfe-ce1645e5e749 {color: black;background-color: white;}#sk-12d88239-ee72-4779-acfe-ce1645e5e749 pre{padding: 0;}#sk-12d88239-ee72-4779-acfe-ce1645e5e749 div.sk-toggleable {background-color: white;}#sk-12d88239-ee72-4779-acfe-ce1645e5e749 label.sk-toggleable__label {cursor: pointer;display: block;width: 100%;margin-bottom: 0;padding: 0.2em 0.3em;box-sizing: border-box;text-align: center;}#sk-12d88239-ee72-4779-acfe-ce1645e5e749 div.sk-toggleable__content {max-height: 0;max-width: 0;overflow: hidden;text-align: left;background-color: #f0f8ff;}#sk-12d88239-ee72-4779-acfe-ce1645e5e749 div.sk-toggleable__content pre {margin: 0.2em;color: black;border-radius: 0.25em;background-color: #f0f8ff;}#sk-12d88239-ee72-4779-acfe-ce1645e5e749 input.sk-toggleable__control:checked~div.sk-toggleable__content {max-height: 200px;max-width: 100%;overflow: auto;}#sk-12d88239-ee72-4779-acfe-ce1645e5e749 div.sk-estimator input.sk-toggleable__control:checked~label.sk-toggleable__label {background-color: #d4ebff;}#sk-12d88239-ee72-4779-acfe-ce1645e5e749 div.sk-label input.sk-toggleable__control:checked~label.sk-toggleable__label {background-color: #d4ebff;}#sk-12d88239-ee72-4779-acfe-ce1645e5e749 input.sk-hidden--visually {border: 0;clip: rect(1px 1px 1px 1px);clip: rect(1px, 1px, 1px, 1px);height: 1px;margin: -1px;overflow: hidden;padding: 0;position: absolute;width: 1px;}#sk-12d88239-ee72-4779-acfe-ce1645e5e749 div.sk-estimator {font-family: monospace;background-color: #f0f8ff;margin: 0.25em 0.25em;border: 1px dotted black;border-radius: 0.25em;box-sizing: border-box;}#sk-12d88239-ee72-4779-acfe-ce1645e5e749 div.sk-estimator:hover {background-color: #d4ebff;}#sk-12d88239-ee72-4779-acfe-ce1645e5e749 div.sk-parallel-item::after {content: \"\";width: 100%;border-bottom: 1px solid gray;flex-grow: 1;}#sk-12d88239-ee72-4779-acfe-ce1645e5e749 div.sk-label:hover label.sk-toggleable__label {background-color: #d4ebff;}#sk-12d88239-ee72-4779-acfe-ce1645e5e749 div.sk-serial::before {content: \"\";position: absolute;border-left: 1px solid gray;box-sizing: border-box;top: 2em;bottom: 0;left: 50%;}#sk-12d88239-ee72-4779-acfe-ce1645e5e749 div.sk-serial {display: flex;flex-direction: column;align-items: center;background-color: white;}#sk-12d88239-ee72-4779-acfe-ce1645e5e749 div.sk-item {z-index: 1;}#sk-12d88239-ee72-4779-acfe-ce1645e5e749 div.sk-parallel {display: flex;align-items: stretch;justify-content: center;background-color: white;}#sk-12d88239-ee72-4779-acfe-ce1645e5e749 div.sk-parallel-item {display: flex;flex-direction: column;position: relative;background-color: white;}#sk-12d88239-ee72-4779-acfe-ce1645e5e749 div.sk-parallel-item:first-child::after {align-self: flex-end;width: 50%;}#sk-12d88239-ee72-4779-acfe-ce1645e5e749 div.sk-parallel-item:last-child::after {align-self: flex-start;width: 50%;}#sk-12d88239-ee72-4779-acfe-ce1645e5e749 div.sk-parallel-item:only-child::after {width: 0;}#sk-12d88239-ee72-4779-acfe-ce1645e5e749 div.sk-dashed-wrapped {border: 1px dashed gray;margin: 0.2em;box-sizing: border-box;padding-bottom: 0.1em;background-color: white;position: relative;}#sk-12d88239-ee72-4779-acfe-ce1645e5e749 div.sk-label label {font-family: monospace;font-weight: bold;background-color: white;display: inline-block;line-height: 1.2em;}#sk-12d88239-ee72-4779-acfe-ce1645e5e749 div.sk-label-container {position: relative;z-index: 2;text-align: center;}#sk-12d88239-ee72-4779-acfe-ce1645e5e749 div.sk-container {display: inline-block;position: relative;}</style><div id=\"sk-12d88239-ee72-4779-acfe-ce1645e5e749\" class\"sk-top-container\"><div class=\"sk-container\"><div class=\"sk-item sk-dashed-wrapped\"><div class=\"sk-label-container\"><div class=\"sk-label sk-toggleable\"><input class=\"sk-toggleable__control sk-hidden--visually\" id=\"af101288-a840-4f51-9447-20e0015820bc\" type=\"checkbox\" ><label class=\"sk-toggleable__label\" for=\"af101288-a840-4f51-9447-20e0015820bc\">Pipeline</label><div class=\"sk-toggleable__content\"><pre>Pipeline(steps=[('preprocess',\n",
       "                 Pipeline(steps=[('impute_encode',\n",
       "                                  ColumnTransformer(transformers=[('cate',\n",
       "                                                                   Pipeline(steps=[('impute',\n",
       "                                                                                    SimpleImputer(strategy='most_frequent')),\n",
       "                                                                                   ('encode',\n",
       "                                                                                    OneHotEncoder(handle_unknown='ignore'))]),\n",
       "                                                                   ['Điểm đi',\n",
       "                                                                    'Điểm '\n",
       "                                                                    'đến']),\n",
       "                                                                  ('nume',\n",
       "                                                                   SimpleImputer(),\n",
       "                                                                   ['Số '\n",
       "                                                                    'chỗ'])])),\n",
       "                                 ('scale', StandardScaler(with_mean=False))])),\n",
       "                ('regressor',\n",
       "                 MLPRegressor(max_iter=10000, random_state=0, solver='lbfgs'))])</pre></div></div></div><div class=\"sk-serial\"><div class=\"sk-item\"><div class=\"sk-label-container\"><div class=\"sk-label sk-toggleable\"><input class=\"sk-toggleable__control sk-hidden--visually\" id=\"8cb09b4a-7522-4fe6-88e5-a9e0e0cc4d82\" type=\"checkbox\" ><label class=\"sk-toggleable__label\" for=\"8cb09b4a-7522-4fe6-88e5-a9e0e0cc4d82\">preprocess: Pipeline</label><div class=\"sk-toggleable__content\"><pre>Pipeline(steps=[('impute_encode',\n",
       "                 ColumnTransformer(transformers=[('cate',\n",
       "                                                  Pipeline(steps=[('impute',\n",
       "                                                                   SimpleImputer(strategy='most_frequent')),\n",
       "                                                                  ('encode',\n",
       "                                                                   OneHotEncoder(handle_unknown='ignore'))]),\n",
       "                                                  ['Điểm đi', 'Điểm đến']),\n",
       "                                                 ('nume', SimpleImputer(),\n",
       "                                                  ['Số chỗ'])])),\n",
       "                ('scale', StandardScaler(with_mean=False))])</pre></div></div></div><div class=\"sk-serial\"><div class=\"sk-item sk-dashed-wrapped\"><div class=\"sk-label-container\"><div class=\"sk-label sk-toggleable\"><input class=\"sk-toggleable__control sk-hidden--visually\" id=\"c0295eef-cf34-4bd2-ae72-4c5fdade158b\" type=\"checkbox\" ><label class=\"sk-toggleable__label\" for=\"c0295eef-cf34-4bd2-ae72-4c5fdade158b\">impute_encode: ColumnTransformer</label><div class=\"sk-toggleable__content\"><pre>ColumnTransformer(transformers=[('cate',\n",
       "                                 Pipeline(steps=[('impute',\n",
       "                                                  SimpleImputer(strategy='most_frequent')),\n",
       "                                                 ('encode',\n",
       "                                                  OneHotEncoder(handle_unknown='ignore'))]),\n",
       "                                 ['Điểm đi', 'Điểm đến']),\n",
       "                                ('nume', SimpleImputer(), ['Số chỗ'])])</pre></div></div></div><div class=\"sk-parallel\"><div class=\"sk-parallel-item\"><div class=\"sk-item\"><div class=\"sk-label-container\"><div class=\"sk-label sk-toggleable\"><input class=\"sk-toggleable__control sk-hidden--visually\" id=\"7c59aae9-76d7-40fe-bc3d-bcc352d57bd0\" type=\"checkbox\" ><label class=\"sk-toggleable__label\" for=\"7c59aae9-76d7-40fe-bc3d-bcc352d57bd0\">cate</label><div class=\"sk-toggleable__content\"><pre>['Điểm đi', 'Điểm đến']</pre></div></div></div><div class=\"sk-serial\"><div class=\"sk-item\"><div class=\"sk-serial\"><div class=\"sk-item\"><div class=\"sk-estimator sk-toggleable\"><input class=\"sk-toggleable__control sk-hidden--visually\" id=\"6f70efb7-5d0b-4d42-aecf-e5927fbddcb1\" type=\"checkbox\" ><label class=\"sk-toggleable__label\" for=\"6f70efb7-5d0b-4d42-aecf-e5927fbddcb1\">SimpleImputer</label><div class=\"sk-toggleable__content\"><pre>SimpleImputer(strategy='most_frequent')</pre></div></div></div><div class=\"sk-item\"><div class=\"sk-estimator sk-toggleable\"><input class=\"sk-toggleable__control sk-hidden--visually\" id=\"1ca779ed-9e3f-45c8-b08f-dc46a778285b\" type=\"checkbox\" ><label class=\"sk-toggleable__label\" for=\"1ca779ed-9e3f-45c8-b08f-dc46a778285b\">OneHotEncoder</label><div class=\"sk-toggleable__content\"><pre>OneHotEncoder(handle_unknown='ignore')</pre></div></div></div></div></div></div></div></div><div class=\"sk-parallel-item\"><div class=\"sk-item\"><div class=\"sk-label-container\"><div class=\"sk-label sk-toggleable\"><input class=\"sk-toggleable__control sk-hidden--visually\" id=\"07ad13ac-6dc8-463f-98ff-5c076376bc09\" type=\"checkbox\" ><label class=\"sk-toggleable__label\" for=\"07ad13ac-6dc8-463f-98ff-5c076376bc09\">nume</label><div class=\"sk-toggleable__content\"><pre>['Số chỗ']</pre></div></div></div><div class=\"sk-serial\"><div class=\"sk-item\"><div class=\"sk-estimator sk-toggleable\"><input class=\"sk-toggleable__control sk-hidden--visually\" id=\"807bca64-acfb-46cd-ace8-5d552dd50dcd\" type=\"checkbox\" ><label class=\"sk-toggleable__label\" for=\"807bca64-acfb-46cd-ace8-5d552dd50dcd\">SimpleImputer</label><div class=\"sk-toggleable__content\"><pre>SimpleImputer()</pre></div></div></div></div></div></div></div></div><div class=\"sk-item\"><div class=\"sk-estimator sk-toggleable\"><input class=\"sk-toggleable__control sk-hidden--visually\" id=\"e06ef206-8014-4f6b-96ae-6bde5e71574d\" type=\"checkbox\" ><label class=\"sk-toggleable__label\" for=\"e06ef206-8014-4f6b-96ae-6bde5e71574d\">StandardScaler</label><div class=\"sk-toggleable__content\"><pre>StandardScaler(with_mean=False)</pre></div></div></div></div></div><div class=\"sk-item\"><div class=\"sk-estimator sk-toggleable\"><input class=\"sk-toggleable__control sk-hidden--visually\" id=\"68ff923a-b188-4826-a117-636170b785b0\" type=\"checkbox\" ><label class=\"sk-toggleable__label\" for=\"68ff923a-b188-4826-a117-636170b785b0\">MLPRegressor</label><div class=\"sk-toggleable__content\"><pre>MLPRegressor(max_iter=10000, random_state=0, solver='lbfgs')</pre></div></div></div></div></div></div></div>"
      ],
      "text/plain": [
       "Pipeline(steps=[('preprocess',\n",
       "                 Pipeline(steps=[('impute_encode',\n",
       "                                  ColumnTransformer(transformers=[('cate',\n",
       "                                                                   Pipeline(steps=[('impute',\n",
       "                                                                                    SimpleImputer(strategy='most_frequent')),\n",
       "                                                                                   ('encode',\n",
       "                                                                                    OneHotEncoder(handle_unknown='ignore'))]),\n",
       "                                                                   ['Điểm đi',\n",
       "                                                                    'Điểm '\n",
       "                                                                    'đến']),\n",
       "                                                                  ('nume',\n",
       "                                                                   SimpleImputer(),\n",
       "                                                                   ['Số '\n",
       "                                                                    'chỗ'])])),\n",
       "                                 ('scale', StandardScaler(with_mean=False))])),\n",
       "                ('regressor',\n",
       "                 MLPRegressor(max_iter=10000, random_state=0, solver='lbfgs'))])"
      ]
     },
     "execution_count": 21,
     "metadata": {},
     "output_type": "execute_result"
    }
   ],
   "source": [
    "mlpr = MLPRegressor(solver='lbfgs', random_state=0, max_iter=10000)\n",
    "\n",
    "full_pipeline = Pipeline(steps=[\n",
    "    ('preprocess', preprocess_pipeline),\n",
    "    ('regressor', mlpr)\n",
    "])\n",
    "full_pipeline"
   ]
  },
  {
   "cell_type": "markdown",
   "metadata": {
    "id": "tNX9huRLKaHv"
   },
   "source": [
    "Thử nghiệm các giá trị khác nhau của các siêu tham số và chọn ra giá trị tốt nhất."
   ]
  },
  {
   "cell_type": "code",
   "execution_count": 22,
   "metadata": {
    "id": "3DMPssAnK_Hw"
   },
   "outputs": [],
   "source": [
    "val_errs = []\n",
    "hidden_layer_sizes = [(10, 5), (20, 10), (20)]\n",
    "alphas = [0.001, 0.1, 10]\n",
    "\n",
    "best_val_err = float('inf')\n",
    "best_alpha = None\n",
    "best_hidden_layer_size = None\n",
    "\n",
    "for alpha in alphas:\n",
    "  for hidden_layer_size in hidden_layer_sizes:\n",
    "\n",
    "    full_pipeline.set_params(regressor__hidden_layer_sizes=hidden_layer_size, \n",
    "                             regressor__alpha=alpha)\n",
    "    \n",
    "    model = full_pipeline.fit(X_train, y_train)\n",
    "\n",
    "    val_err = (1 - model.score(X_val, y_val)) * 100\n",
    "    val_errs.append(val_err)\n",
    "\n",
    "    if val_err < best_val_err:\n",
    "      best_val_err, best_alpha, best_hidden_layer_size = val_err, alpha, hidden_layer_size"
   ]
  },
  {
   "cell_type": "code",
   "execution_count": 23,
   "metadata": {
    "colab": {
     "base_uri": "https://localhost:8080/"
    },
    "executionInfo": {
     "elapsed": 18,
     "status": "ok",
     "timestamp": 1630852258617,
     "user": {
      "displayName": "Trung Kiên Nguyễn",
      "photoUrl": "https://lh3.googleusercontent.com/a-/AOh14Gjvxk64OsMJDUQBjr8geO1i6cEJenCRN2qQ7JRWTw=s64",
      "userId": "11085371309446490037"
     },
     "user_tz": -420
    },
    "id": "VelKoFGVWwab",
    "outputId": "a29932ee-f4ca-48bb-91a1-ba1371ec8a5d"
   },
   "outputs": [
    {
     "name": "stdout",
     "output_type": "stream",
     "text": [
      "best_val_err = 11.573220078894453\n",
      "best_alpha   = 0.1\n",
      "best_hidden_layer_size = (20, 10)\n"
     ]
    }
   ],
   "source": [
    "print(f'best_val_err = {best_val_err}')\n",
    "print(f'best_alpha   = {best_alpha}')\n",
    "print(f'best_hidden_layer_size = {best_hidden_layer_size}')"
   ]
  },
  {
   "cell_type": "markdown",
   "metadata": {
    "id": "PS5CP0HoRdKs"
   },
   "source": [
    "Mô hình tốt nhất thu được dựa trên độ lỗi trên tập validation ở trên."
   ]
  },
  {
   "cell_type": "code",
   "execution_count": 24,
   "metadata": {
    "id": "OrcpZbc2YyPS"
   },
   "outputs": [],
   "source": [
    "full_pipeline.set_params(regressor__hidden_layer_sizes=best_hidden_layer_size, \n",
    "                         regressor__alpha=best_alpha)\n",
    "model = full_pipeline.fit(X_train_val, y_train_val)"
   ]
  },
  {
   "cell_type": "markdown",
   "metadata": {
    "id": "AcdEHSa2RwiP"
   },
   "source": [
    "Độ lỗi trên tập test."
   ]
  },
  {
   "cell_type": "code",
   "execution_count": 25,
   "metadata": {
    "colab": {
     "base_uri": "https://localhost:8080/"
    },
    "executionInfo": {
     "elapsed": 18,
     "status": "ok",
     "timestamp": 1630852268917,
     "user": {
      "displayName": "Trung Kiên Nguyễn",
      "photoUrl": "https://lh3.googleusercontent.com/a-/AOh14Gjvxk64OsMJDUQBjr8geO1i6cEJenCRN2qQ7JRWTw=s64",
      "userId": "11085371309446490037"
     },
     "user_tz": -420
    },
    "id": "eQyptkzX08em",
    "outputId": "00eb8121-0593-47ad-9660-28f005c94746"
   },
   "outputs": [
    {
     "data": {
      "text/plain": [
       "13.016593561057665"
      ]
     },
     "execution_count": 25,
     "metadata": {},
     "output_type": "execute_result"
    }
   ],
   "source": [
    "test_err = (1 - model.score(X_test, y_test)) * 100\n",
    "test_err"
   ]
  },
  {
   "cell_type": "markdown",
   "metadata": {
    "id": "5RiSkjarZhK5"
   },
   "source": [
    "## 6. Cảm nghĩ"
   ]
  },
  {
   "cell_type": "markdown",
   "metadata": {
    "id": "KXGXw7koZkHV"
   },
   "source": [
    "### 6.1. Nguyễn Trung Kiên\n",
    "- **Những khó khăn đã gặp phải**\n",
    "  - *Khó khăn trong việc tiền xử lý dữ liệu:* Dữ liệu tại một số dòng không hợp lý do phía trang web nhập liệu nhầm. Ngoài ra, tên địa điểm không đồng nhất, tức là một địa điểm nhưng lại có hai tên gọi (VD: \"Sài Gòn\" với \"TP.HCM\", ...).\n",
    "  - *Khó khăn trong việc mô hình hóa dữ liệu:* Sử dụng mô hình Multi-layer Perceptron regressor và các tham số như `hidden_layer_size` hay `alpha` đều được đưa ra ngẫu nhiên, sau đó thử hết tất cả các cặp giá trị để tìm mô hình có độ lỗi nhỏ nhất. Do đó, lúc chạy sẽ tốn thời gian và mô hình thu được chưa chắc là mô hình tốt nhất.\n",
    "- **Bài học rút ra**\n",
    "  - Nên tìm những trang web có hỗ trợ API để thu thập dữ liệu vì khi đó thời gian thu thập sẽ ít hơn, dữ liệu có được sẽ chuẩn hơn và trên hết là việc thu thập như vậy là hợp lệ (với các trang web có term of service)."
   ]
  },
  {
   "cell_type": "markdown",
   "metadata": {
    "id": "-nCnwFJHZsZt"
   },
   "source": [
    "### 6.2. Nguyễn Lê Quốc Tài"
   ]
  },
  {
   "cell_type": "markdown",
   "metadata": {
    "id": "WZ4ILw9oNxtV"
   },
   "source": [
    "- **Những khó khăn đã gặp phải**\n",
    "  - *Khó khăn trong việc thu thập dữ liệu:* Dữ liệu có khá nhiều ngoại lệ khiến cho việc tìm và xử lí ngoại lệ gặp khó khăn. Dữ liệu nhiều khiến cho thời gian thu thập lâu (khoảng 5 phút nếu sử dụng cache và hơn 1 tiếng nếu chưa sử dụng cache).\n",
    "  - *Khó khăn trong việc mô hình hóa dữ liệu:* Dữ liệu không tuyến tính nên phải sử dụng mô hình neural network và phải chọn các siêu tham số sao cho độ lỗi trên tập validation của mô hình là thấp nhất có thể. \n",
    "- **Bài học rút ra**\n",
    "  - Cân nhắc việc lựa chọn cách thu thập dữ liệu (parse html hay đăng ký API).\n",
    "  - Cân nhắc trong việc chọn trang web để thu thập dữ liệu (dữ liệu của trang web có nhiều bất thường, ngoại lệ hay không).\n",
    "  - Cân nhắc trong việc sử dụng dữ liệu nào để mô hình hóa (có dễ để fit hay không, có tuyến tính hay không, các attribute phụ thuộc hay độc lập với nhau).\n"
   ]
  }
 ],
 "metadata": {
  "colab": {
   "collapsed_sections": [],
   "name": "Report.ipynb",
   "provenance": []
  },
  "kernelspec": {
   "display_name": "Python 3 (ipykernel)",
   "language": "python",
   "name": "python3"
  },
  "language_info": {
   "codemirror_mode": {
    "name": "ipython",
    "version": 3
   },
   "file_extension": ".py",
   "mimetype": "text/x-python",
   "name": "python",
   "nbconvert_exporter": "python",
   "pygments_lexer": "ipython3",
   "version": "3.8.8"
  }
 },
 "nbformat": 4,
 "nbformat_minor": 1
}
